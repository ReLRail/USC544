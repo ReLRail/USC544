{
 "cells": [
  {
   "cell_type": "code",
   "execution_count": 1,
   "metadata": {},
   "outputs": [],
   "source": [
    "import pandas as pd\n",
    "import numpy as np\n",
    "from sklearn.model_selection import train_test_split"
   ]
  },
  {
   "cell_type": "code",
   "execution_count": 20,
   "metadata": {},
   "outputs": [],
   "source": [
    "sheet_id = \"1ue2SL2gjcrj--SGe78JmGO0LNuIQwje9ANqarMgPddE\"\n",
    "sheet_name = \"Sheet1\"\n",
    "google_sheet_url = f\"https://docs.google.com/spreadsheets/d/{sheet_id}/export?gid=0&format=csv\"\n",
    "\n",
    "input_cols = ['team_one_color', 'team_one_name', 'team_one_player1',\n",
    "       'team_one_player2', 'team_one_player3', 'team_one_player4',\n",
    "       'team_one_player5', 'team_two_color', 'team_two_name',\n",
    "       'team_two_player6', 'team_two_player7', 'team_two_player8',\n",
    "       'team_two_player9', 'team_two_player10', 'text']\n",
    "\n",
    "output_cols = ['output']\n"
   ]
  },
  {
   "cell_type": "code",
   "execution_count": 27,
   "metadata": {},
   "outputs": [
    {
     "data": {
      "text/html": [
       "<div>\n",
       "<style scoped>\n",
       "    .dataframe tbody tr th:only-of-type {\n",
       "        vertical-align: middle;\n",
       "    }\n",
       "\n",
       "    .dataframe tbody tr th {\n",
       "        vertical-align: top;\n",
       "    }\n",
       "\n",
       "    .dataframe thead th {\n",
       "        text-align: right;\n",
       "    }\n",
       "</style>\n",
       "<table border=\"1\" class=\"dataframe\">\n",
       "  <thead>\n",
       "    <tr style=\"text-align: right;\">\n",
       "      <th></th>\n",
       "      <th>team_one_color</th>\n",
       "      <th>team_one_name</th>\n",
       "      <th>team_one_player1</th>\n",
       "      <th>team_one_player2</th>\n",
       "      <th>team_one_player3</th>\n",
       "      <th>team_one_player4</th>\n",
       "      <th>team_one_player5</th>\n",
       "      <th>team_two_color</th>\n",
       "      <th>team_two_name</th>\n",
       "      <th>team_two_player6</th>\n",
       "      <th>team_two_player7</th>\n",
       "      <th>team_two_player8</th>\n",
       "      <th>team_two_player9</th>\n",
       "      <th>team_two_player10</th>\n",
       "      <th>win_team</th>\n",
       "      <th>text</th>\n",
       "      <th>video_link</th>\n",
       "      <th>output</th>\n",
       "      <th>input</th>\n",
       "    </tr>\n",
       "  </thead>\n",
       "  <tbody>\n",
       "    <tr>\n",
       "      <th>0</th>\n",
       "      <td>blue</td>\n",
       "      <td>C9</td>\n",
       "      <td>FUDGE</td>\n",
       "      <td>BLABER</td>\n",
       "      <td>JENSEN</td>\n",
       "      <td>BERSERKER</td>\n",
       "      <td>ZVEN</td>\n",
       "      <td>red</td>\n",
       "      <td>100</td>\n",
       "      <td>SSUMDAY</td>\n",
       "      <td>CLOSER</td>\n",
       "      <td>ABBEDAGGE</td>\n",
       "      <td>FBI</td>\n",
       "      <td>HUHI</td>\n",
       "      <td>C9</td>\n",
       "      <td>0:00\\n to get the better of someday in their p...</td>\n",
       "      <td>https://www.youtube.com/watch?v=wFe2n8AU9ok</td>\n",
       "      <td>True</td>\n",
       "      <td>blue C9 FUDGE BLABER JENSEN BERSERKER ZVEN red...</td>\n",
       "    </tr>\n",
       "    <tr>\n",
       "      <th>1</th>\n",
       "      <td>blue</td>\n",
       "      <td>RNG</td>\n",
       "      <td>BIN</td>\n",
       "      <td>WEI</td>\n",
       "      <td>XIAOHU</td>\n",
       "      <td>GALA</td>\n",
       "      <td>MING</td>\n",
       "      <td>red</td>\n",
       "      <td>T1</td>\n",
       "      <td>ZEUS</td>\n",
       "      <td>ONER</td>\n",
       "      <td>FAKER</td>\n",
       "      <td>GUMAYUSI</td>\n",
       "      <td>KERIA</td>\n",
       "      <td>RNG</td>\n",
       "      <td>0:00\\n the blue side they won a coin toss yest...</td>\n",
       "      <td>https://www.youtube.com/watch?v=k4HC8g4rD1U</td>\n",
       "      <td>True</td>\n",
       "      <td>blue RNG BIN WEI XIAOHU GALA MING red T1 ZEUS ...</td>\n",
       "    </tr>\n",
       "    <tr>\n",
       "      <th>2</th>\n",
       "      <td>blue</td>\n",
       "      <td>JDG</td>\n",
       "      <td>369</td>\n",
       "      <td>KANAVI</td>\n",
       "      <td>YAGAO</td>\n",
       "      <td>HOPE</td>\n",
       "      <td>MISSING</td>\n",
       "      <td>red</td>\n",
       "      <td>RGE</td>\n",
       "      <td>ODOAMNE</td>\n",
       "      <td>MALRANG</td>\n",
       "      <td>LARSSEN</td>\n",
       "      <td>COMP</td>\n",
       "      <td>TRYMBI</td>\n",
       "      <td>JDG</td>\n",
       "      <td>0:00\\n say it immediately gets locked in I thi...</td>\n",
       "      <td>https://www.youtube.com/watch?v=AqQ_orDW6Qo</td>\n",
       "      <td>True</td>\n",
       "      <td>blue JDG 369 KANAVI YAGAO HOPE MISSING red RGE...</td>\n",
       "    </tr>\n",
       "    <tr>\n",
       "      <th>3</th>\n",
       "      <td>blue</td>\n",
       "      <td>GEN</td>\n",
       "      <td>DORAN</td>\n",
       "      <td>PEANUT</td>\n",
       "      <td>CHOVY</td>\n",
       "      <td>RULER</td>\n",
       "      <td>LEHENDS</td>\n",
       "      <td>red</td>\n",
       "      <td>T1</td>\n",
       "      <td>ZEUS</td>\n",
       "      <td>ONER</td>\n",
       "      <td>FAKER</td>\n",
       "      <td>GUMAYUSI</td>\n",
       "      <td>KERIA</td>\n",
       "      <td>T1</td>\n",
       "      <td>0:00\\n pretty well at those power spikes set u...</td>\n",
       "      <td>https://www.youtube.com/watch?v=2WnF6lKmjYM</td>\n",
       "      <td>False</td>\n",
       "      <td>blue GEN DORAN PEANUT CHOVY RULER LEHENDS red ...</td>\n",
       "    </tr>\n",
       "    <tr>\n",
       "      <th>4</th>\n",
       "      <td>blue</td>\n",
       "      <td>GEN</td>\n",
       "      <td>DORAN</td>\n",
       "      <td>PEANUT</td>\n",
       "      <td>CHOVY</td>\n",
       "      <td>RULER</td>\n",
       "      <td>LEHENDS</td>\n",
       "      <td>red</td>\n",
       "      <td>DK</td>\n",
       "      <td>NUGURI</td>\n",
       "      <td>CANYON</td>\n",
       "      <td>SHOWMAKER</td>\n",
       "      <td>DEOKDAM</td>\n",
       "      <td>KELLIN</td>\n",
       "      <td>GEN</td>\n",
       "      <td>0:00\\n absolutely I mean Dom wanna you feel li...</td>\n",
       "      <td>https://www.youtube.com/watch?v=o8j5_L6qro4</td>\n",
       "      <td>True</td>\n",
       "      <td>blue GEN DORAN PEANUT CHOVY RULER LEHENDS red ...</td>\n",
       "    </tr>\n",
       "  </tbody>\n",
       "</table>\n",
       "</div>"
      ],
      "text/plain": [
       "  team_one_color team_one_name team_one_player1 team_one_player2  \\\n",
       "0           blue            C9            FUDGE           BLABER   \n",
       "1           blue           RNG              BIN              WEI   \n",
       "2           blue           JDG              369           KANAVI   \n",
       "3           blue           GEN            DORAN           PEANUT   \n",
       "4           blue           GEN            DORAN           PEANUT   \n",
       "\n",
       "  team_one_player3 team_one_player4 team_one_player5 team_two_color  \\\n",
       "0           JENSEN        BERSERKER             ZVEN            red   \n",
       "1           XIAOHU             GALA             MING            red   \n",
       "2            YAGAO             HOPE          MISSING            red   \n",
       "3            CHOVY            RULER          LEHENDS            red   \n",
       "4            CHOVY            RULER          LEHENDS            red   \n",
       "\n",
       "  team_two_name team_two_player6 team_two_player7 team_two_player8  \\\n",
       "0           100          SSUMDAY           CLOSER        ABBEDAGGE   \n",
       "1            T1             ZEUS             ONER            FAKER   \n",
       "2           RGE          ODOAMNE          MALRANG          LARSSEN   \n",
       "3            T1             ZEUS             ONER            FAKER   \n",
       "4            DK           NUGURI           CANYON        SHOWMAKER   \n",
       "\n",
       "  team_two_player9 team_two_player10 win_team  \\\n",
       "0              FBI              HUHI       C9   \n",
       "1         GUMAYUSI             KERIA      RNG   \n",
       "2             COMP            TRYMBI      JDG   \n",
       "3         GUMAYUSI             KERIA       T1   \n",
       "4          DEOKDAM            KELLIN      GEN   \n",
       "\n",
       "                                                text  \\\n",
       "0  0:00\\n to get the better of someday in their p...   \n",
       "1  0:00\\n the blue side they won a coin toss yest...   \n",
       "2  0:00\\n say it immediately gets locked in I thi...   \n",
       "3  0:00\\n pretty well at those power spikes set u...   \n",
       "4  0:00\\n absolutely I mean Dom wanna you feel li...   \n",
       "\n",
       "                                    video_link  output  \\\n",
       "0  https://www.youtube.com/watch?v=wFe2n8AU9ok    True   \n",
       "1  https://www.youtube.com/watch?v=k4HC8g4rD1U    True   \n",
       "2  https://www.youtube.com/watch?v=AqQ_orDW6Qo    True   \n",
       "3  https://www.youtube.com/watch?v=2WnF6lKmjYM   False   \n",
       "4  https://www.youtube.com/watch?v=o8j5_L6qro4    True   \n",
       "\n",
       "                                               input  \n",
       "0  blue C9 FUDGE BLABER JENSEN BERSERKER ZVEN red...  \n",
       "1  blue RNG BIN WEI XIAOHU GALA MING red T1 ZEUS ...  \n",
       "2  blue JDG 369 KANAVI YAGAO HOPE MISSING red RGE...  \n",
       "3  blue GEN DORAN PEANUT CHOVY RULER LEHENDS red ...  \n",
       "4  blue GEN DORAN PEANUT CHOVY RULER LEHENDS red ...  "
      ]
     },
     "execution_count": 27,
     "metadata": {},
     "output_type": "execute_result"
    }
   ],
   "source": [
    "df = pd.read_csv(google_sheet_url)\n",
    "df['output'] = df['win_team']==df['team_one_name']\n",
    "df['input'] = [' '.join(row) for index, row in df[input_cols].iterrows()]\n",
    "\n",
    "\n",
    "X_train, X_test, y_train, y_test = train_test_split(df['input'], df['output'], test_size=0.33, random_state=42)\n",
    "df.head()"
   ]
  },
  {
   "cell_type": "code",
   "execution_count": 28,
   "metadata": {},
   "outputs": [
    {
     "data": {
      "text/plain": [
       "(48, 10014)"
      ]
     },
     "execution_count": 28,
     "metadata": {},
     "output_type": "execute_result"
    }
   ],
   "source": [
    "from sklearn.feature_extraction.text import CountVectorizer\n",
    "\n",
    "count_vect = CountVectorizer()\n",
    "X_train_counts = count_vect.fit_transform(df['input'])\n",
    "X_train_counts.shape"
   ]
  },
  {
   "cell_type": "code",
   "execution_count": 29,
   "metadata": {},
   "outputs": [
    {
     "data": {
      "text/plain": [
       "(48, 10014)"
      ]
     },
     "execution_count": 29,
     "metadata": {},
     "output_type": "execute_result"
    }
   ],
   "source": [
    "from sklearn.feature_extraction.text import TfidfTransformer\n",
    "tf_transformer = TfidfTransformer(use_idf=False).fit(X_train_counts)\n",
    "X_train_tf = tf_transformer.transform(X_train_counts)\n",
    "X_train_tf.shape\n",
    "\n",
    "tfidf_transformer = TfidfTransformer()\n",
    "X_train_tfidf = tfidf_transformer.fit_transform(X_train_counts)\n",
    "X_train_tfidf.shape\n"
   ]
  },
  {
   "cell_type": "code",
   "execution_count": 30,
   "metadata": {},
   "outputs": [],
   "source": [
    "from sklearn.naive_bayes import MultinomialNB\n",
    "clf = MultinomialNB().fit(X_train_tfidf, df[output_cols].values.ravel())"
   ]
  },
  {
   "cell_type": "code",
   "execution_count": 31,
   "metadata": {},
   "outputs": [
    {
     "data": {
      "text/html": [
       "<style>#sk-container-id-1 {color: black;background-color: white;}#sk-container-id-1 pre{padding: 0;}#sk-container-id-1 div.sk-toggleable {background-color: white;}#sk-container-id-1 label.sk-toggleable__label {cursor: pointer;display: block;width: 100%;margin-bottom: 0;padding: 0.3em;box-sizing: border-box;text-align: center;}#sk-container-id-1 label.sk-toggleable__label-arrow:before {content: \"▸\";float: left;margin-right: 0.25em;color: #696969;}#sk-container-id-1 label.sk-toggleable__label-arrow:hover:before {color: black;}#sk-container-id-1 div.sk-estimator:hover label.sk-toggleable__label-arrow:before {color: black;}#sk-container-id-1 div.sk-toggleable__content {max-height: 0;max-width: 0;overflow: hidden;text-align: left;background-color: #f0f8ff;}#sk-container-id-1 div.sk-toggleable__content pre {margin: 0.2em;color: black;border-radius: 0.25em;background-color: #f0f8ff;}#sk-container-id-1 input.sk-toggleable__control:checked~div.sk-toggleable__content {max-height: 200px;max-width: 100%;overflow: auto;}#sk-container-id-1 input.sk-toggleable__control:checked~label.sk-toggleable__label-arrow:before {content: \"▾\";}#sk-container-id-1 div.sk-estimator input.sk-toggleable__control:checked~label.sk-toggleable__label {background-color: #d4ebff;}#sk-container-id-1 div.sk-label input.sk-toggleable__control:checked~label.sk-toggleable__label {background-color: #d4ebff;}#sk-container-id-1 input.sk-hidden--visually {border: 0;clip: rect(1px 1px 1px 1px);clip: rect(1px, 1px, 1px, 1px);height: 1px;margin: -1px;overflow: hidden;padding: 0;position: absolute;width: 1px;}#sk-container-id-1 div.sk-estimator {font-family: monospace;background-color: #f0f8ff;border: 1px dotted black;border-radius: 0.25em;box-sizing: border-box;margin-bottom: 0.5em;}#sk-container-id-1 div.sk-estimator:hover {background-color: #d4ebff;}#sk-container-id-1 div.sk-parallel-item::after {content: \"\";width: 100%;border-bottom: 1px solid gray;flex-grow: 1;}#sk-container-id-1 div.sk-label:hover label.sk-toggleable__label {background-color: #d4ebff;}#sk-container-id-1 div.sk-serial::before {content: \"\";position: absolute;border-left: 1px solid gray;box-sizing: border-box;top: 0;bottom: 0;left: 50%;z-index: 0;}#sk-container-id-1 div.sk-serial {display: flex;flex-direction: column;align-items: center;background-color: white;padding-right: 0.2em;padding-left: 0.2em;position: relative;}#sk-container-id-1 div.sk-item {position: relative;z-index: 1;}#sk-container-id-1 div.sk-parallel {display: flex;align-items: stretch;justify-content: center;background-color: white;position: relative;}#sk-container-id-1 div.sk-item::before, #sk-container-id-1 div.sk-parallel-item::before {content: \"\";position: absolute;border-left: 1px solid gray;box-sizing: border-box;top: 0;bottom: 0;left: 50%;z-index: -1;}#sk-container-id-1 div.sk-parallel-item {display: flex;flex-direction: column;z-index: 1;position: relative;background-color: white;}#sk-container-id-1 div.sk-parallel-item:first-child::after {align-self: flex-end;width: 50%;}#sk-container-id-1 div.sk-parallel-item:last-child::after {align-self: flex-start;width: 50%;}#sk-container-id-1 div.sk-parallel-item:only-child::after {width: 0;}#sk-container-id-1 div.sk-dashed-wrapped {border: 1px dashed gray;margin: 0 0.4em 0.5em 0.4em;box-sizing: border-box;padding-bottom: 0.4em;background-color: white;}#sk-container-id-1 div.sk-label label {font-family: monospace;font-weight: bold;display: inline-block;line-height: 1.2em;}#sk-container-id-1 div.sk-label-container {text-align: center;}#sk-container-id-1 div.sk-container {/* jupyter's `normalize.less` sets `[hidden] { display: none; }` but bootstrap.min.css set `[hidden] { display: none !important; }` so we also need the `!important` here to be able to override the default hidden behavior on the sphinx rendered scikit-learn.org. See: https://github.com/scikit-learn/scikit-learn/issues/21755 */display: inline-block !important;position: relative;}#sk-container-id-1 div.sk-text-repr-fallback {display: none;}</style><div id=\"sk-container-id-1\" class=\"sk-top-container\"><div class=\"sk-text-repr-fallback\"><pre>Pipeline(steps=[(&#x27;vect&#x27;, CountVectorizer()), (&#x27;tfidf&#x27;, TfidfTransformer()),\n",
       "                (&#x27;clf&#x27;,\n",
       "                 SGDClassifier(alpha=0.001, max_iter=5, random_state=42,\n",
       "                               tol=None))])</pre><b>In a Jupyter environment, please rerun this cell to show the HTML representation or trust the notebook. <br />On GitHub, the HTML representation is unable to render, please try loading this page with nbviewer.org.</b></div><div class=\"sk-container\" hidden><div class=\"sk-item sk-dashed-wrapped\"><div class=\"sk-label-container\"><div class=\"sk-label sk-toggleable\"><input class=\"sk-toggleable__control sk-hidden--visually\" id=\"sk-estimator-id-1\" type=\"checkbox\" ><label for=\"sk-estimator-id-1\" class=\"sk-toggleable__label sk-toggleable__label-arrow\">Pipeline</label><div class=\"sk-toggleable__content\"><pre>Pipeline(steps=[(&#x27;vect&#x27;, CountVectorizer()), (&#x27;tfidf&#x27;, TfidfTransformer()),\n",
       "                (&#x27;clf&#x27;,\n",
       "                 SGDClassifier(alpha=0.001, max_iter=5, random_state=42,\n",
       "                               tol=None))])</pre></div></div></div><div class=\"sk-serial\"><div class=\"sk-item\"><div class=\"sk-estimator sk-toggleable\"><input class=\"sk-toggleable__control sk-hidden--visually\" id=\"sk-estimator-id-2\" type=\"checkbox\" ><label for=\"sk-estimator-id-2\" class=\"sk-toggleable__label sk-toggleable__label-arrow\">CountVectorizer</label><div class=\"sk-toggleable__content\"><pre>CountVectorizer()</pre></div></div></div><div class=\"sk-item\"><div class=\"sk-estimator sk-toggleable\"><input class=\"sk-toggleable__control sk-hidden--visually\" id=\"sk-estimator-id-3\" type=\"checkbox\" ><label for=\"sk-estimator-id-3\" class=\"sk-toggleable__label sk-toggleable__label-arrow\">TfidfTransformer</label><div class=\"sk-toggleable__content\"><pre>TfidfTransformer()</pre></div></div></div><div class=\"sk-item\"><div class=\"sk-estimator sk-toggleable\"><input class=\"sk-toggleable__control sk-hidden--visually\" id=\"sk-estimator-id-4\" type=\"checkbox\" ><label for=\"sk-estimator-id-4\" class=\"sk-toggleable__label sk-toggleable__label-arrow\">SGDClassifier</label><div class=\"sk-toggleable__content\"><pre>SGDClassifier(alpha=0.001, max_iter=5, random_state=42, tol=None)</pre></div></div></div></div></div></div></div>"
      ],
      "text/plain": [
       "Pipeline(steps=[('vect', CountVectorizer()), ('tfidf', TfidfTransformer()),\n",
       "                ('clf',\n",
       "                 SGDClassifier(alpha=0.001, max_iter=5, random_state=42,\n",
       "                               tol=None))])"
      ]
     },
     "execution_count": 31,
     "metadata": {},
     "output_type": "execute_result"
    }
   ],
   "source": [
    "from sklearn.pipeline import Pipeline\n",
    "from sklearn.linear_model import SGDClassifier\n",
    "text_clf = Pipeline([\n",
    "    ('vect', CountVectorizer()),\n",
    "    ('tfidf', TfidfTransformer()),\n",
    "    ('clf', SGDClassifier(loss='hinge', penalty='l2', alpha=1e-3, random_state=42, max_iter=5, tol=None))])\n",
    "text_clf.fit(X_train, y_train)"
   ]
  },
  {
   "cell_type": "code",
   "execution_count": 32,
   "metadata": {},
   "outputs": [
    {
     "data": {
      "text/plain": [
       "0.4375"
      ]
     },
     "execution_count": 32,
     "metadata": {},
     "output_type": "execute_result"
    }
   ],
   "source": [
    "predicted = text_clf.predict(X_test)\n",
    "np.mean(predicted == y_test)"
   ]
  },
  {
   "cell_type": "code",
   "execution_count": 35,
   "metadata": {},
   "outputs": [
    {
     "data": {
      "image/png": "[encoded data removed]",
      "text/plain": [
       "<Figure size 500x400 with 2 Axes>"
      ]
     },
     "metadata": {},
     "output_type": "display_data"
    }
   ],
   "source": [
    "from sklearn.metrics import confusion_matrix\n",
    "import matplotlib.pyplot as plt\n",
    "import seaborn as sns\n",
    "\n",
    "\n",
    "conf_mat = confusion_matrix(y_test, predicted)\n",
    "fig, ax = plt.subplots(figsize=(5,4))\n",
    "sns.heatmap(conf_mat, annot=True, fmt='d')\n",
    "plt.ylabel('Actual')\n",
    "plt.xlabel('Predicted')\n",
    "plt.show()"
   ]
  },
  {
   "cell_type": "code",
   "execution_count": null,
   "metadata": {},
   "outputs": [],
   "source": []
  }
 ],
 "metadata": {
  "kernelspec": {
   "display_name": "Python 3.10.8 ('venv': venv)",
   "language": "python",
   "name": "python3"
  },
  "language_info": {
   "codemirror_mode": {
    "name": "ipython",
    "version": 3
   },
   "file_extension": ".py",
   "mimetype": "text/x-python",
   "name": "python",
   "nbconvert_exporter": "python",
   "pygments_lexer": "ipython3",
   "version": "3.10.8"
  },
  "orig_nbformat": 4,
  "vscode": {
   "interpreter": {
    "hash": "2ca4d5f5da32cf4db93baa7405b12c335e220e64d219cbcfd01e17dd423c2ccb"
   }
  }
 },
 "nbformat": 4,
 "nbformat_minor": 2
}
